{
  "cells": [
    {
      "cell_type": "markdown",
      "metadata": {},
      "source": [
        "---\n",
        "jupyter: julia-1.10\n",
        "---\n",
        "\n",
        "\n",
        "\n",
        "\n",
        "\n",
        "\n",
        "# Dataframes\n",
        "\n",
        "Dataframes are on of the most important objects in data science. A dataframe is a table where each row is an observation and each column is a variable.\n",
        "\n",
        "We will use the Palmer Penguin dataset as a toy example for the remaining of the chapter.\n"
      ],
      "id": "ff50af05"
    },
    {
      "cell_type": "code",
      "metadata": {},
      "source": [
        "using DataFrames, PalmerPenguins\n",
        "using Tidier\n",
        "import DataFramesMeta as DFM\n",
        "\n",
        "penguins = PalmerPenguins.load() |> DataFrame"
      ],
      "id": "68ceafc8",
      "execution_count": null,
      "outputs": []
    },
    {
      "cell_type": "markdown",
      "metadata": {},
      "source": [
        "::: {.callout-note}\n",
        "\n",
        "`Dataframes.jl` is the main package for dealing with dataframes in Julia. You can use it directly to manipulate tables, but we also have 2 alternatives: DataFramesMeta and Tidier. \n",
        "\n",
        "DataFramesMeta is a collection of macros \n",
        "\n",
        "Tidier is inspired by the `tidyverse` ecosystem in R. They use macros to rewrite your code into DataFrames.jl code.\n",
        "\n",
        "In this book, whenever reasonable, we will show the different approaches in a tabset so you can compare them!\n",
        ":::\n",
        "\n",
        "## Operations\n",
        "\n",
        "In this chapter, we will see some unary operations on dataframes. These functions take just 1 dataframe. Joins are binary operations and will be seen later.\n",
        "\n",
        "- *Selecting* is when we select some columns of a dataframe, while keeping all the rows. Example: select the `species` and `sex` columns.\n",
        "\n",
        "- *Filtering* or *subsetting* is when we select a subset of rows based on some criteria. Example: all male penguins of species Adelie. The output is a dataframe with the exact same columns, but possibly fewer rows.\n",
        "\n",
        "- *Mutating* is when we create new columns. Example: The body mass in kg is obtained dividing the column `body_mass_g` by 1000.\n",
        "\n",
        "- *Grouping* is when we split the dataframe into a collection (array) of dataframes using some criteria. Example: grouping by `species` gives us 3 dataframes, each with only one species.\n",
        "\n",
        "- *Summarising* is when we apply some function to some columns in order to reduce the amount of rows with some kind of summary (like a mean, median, max, and so on). Example: for each `species`, apply the `mean` function to the columns `body_mass_g`. This will yield a dataframe with 3 rows, one for each species. Summarising is usually done after a grouping, so the summary is calculated with relation to each of the groups.\n",
        "\n",
        "- *Arranging* or *ordering* is when we reorder the rows of a dataframe using some criteria.\n",
        "\n",
        "Since all these functions return a dataframe (or an array of dataframes, in the case of grouping), we can chain these operations together, with the convention that on grouped dataframes we apply the function in each one of the groups.\n",
        "\n",
        "Let's see each operation with more details.\n",
        "\n",
        "## Comparing Tidier with DataFramesMeta\n",
        "\n",
        "The following table list the operations on each package:\n",
        "\n",
        "| dplyr       | Tidier       | DataFramesMeta               | DataFrames   |\n",
        "|-------------|--------------|------------------------------|--------------|\n",
        "| `select`    | `@select`    | `@select`                    | array sintax |\n",
        "| `filter`    | `@filter`    | `@subset` / `@rsubset`       | `filter`     |\n",
        "| `mutate`    | `@mutate`    | `@transform` / `@rtransform` | array sintax |\n",
        "| `group_by`  | `@group_by`  | `@groupby`                   | `groupby`    |\n",
        "| `summarise` | `@summarise` | `@combine`                   | `combine`    |\n",
        "| `arrange`   | `@arrange`   | `@orderby` / `@rorderby`     | `sort!`      |\n",
        "\n",
        "\n",
        "Notice that we have a name clash with `@select`: that is why we `import DataFramesMeta as DFM`.\n",
        "\n",
        "## Filtering / subsetting\n",
        "\n",
        "To filter a dataframe in Tidier, we use the macro `@filter`. You can use it in the form\n"
      ],
      "id": "b62dba04"
    },
    {
      "cell_type": "code",
      "metadata": {},
      "source": [
        "@filter(penguins, species == \"Adelie\")"
      ],
      "id": "aa87bf63",
      "execution_count": null,
      "outputs": []
    },
    {
      "cell_type": "markdown",
      "metadata": {},
      "source": [
        "or without parentesis as in \n"
      ],
      "id": "e54568e0"
    },
    {
      "cell_type": "code",
      "metadata": {},
      "source": [
        "@filter penguins species == \"Adelie\""
      ],
      "id": "447cc245",
      "execution_count": null,
      "outputs": []
    },
    {
      "cell_type": "markdown",
      "metadata": {},
      "source": [
        "Notice that the columns are typed as if they were variables on the Julia environment. This is inspired by the `tidyverse` behaviour of data-masking: inside a tidyverse verb, the columns are taken as \"statistical variables\" that exist inside the dataframe.\n",
        "\n",
        "In DataFramesMeta, we have two macros for filtering: `@subset` and `@rsubset`. Use the first when you have some criteria that uses the whole dataframe, for example:\n"
      ],
      "id": "1ac1b7a6"
    },
    {
      "cell_type": "code",
      "metadata": {},
      "source": [
        "DFM.@subset penguins :body_mass_g .>= mean(skipmissing(:body_mass_g))"
      ],
      "id": "996bd089",
      "execution_count": null,
      "outputs": []
    },
    {
      "cell_type": "markdown",
      "metadata": {},
      "source": [
        "Notice the broadcast on >=. We need it because each *row is interpreted as an array*. Also, notice that we call columns as _symbols_ (i.e. we append `:` to it).\n",
        "\n",
        "In this case, we need the whole column `body_mass_g` to take the mean and then filter the rows based on that. If, however, your filtering criteria only uses information about each row, then `@rsubset` (row subset) is easier to use: it interprets each columns as a value (not an array), so no broadcasting is needed:\n"
      ],
      "id": "c1fa3b5d"
    },
    {
      "cell_type": "code",
      "metadata": {},
      "source": [
        "DFM.@rsubset penguins :species == \"Adelie\""
      ],
      "id": "2bfff26f",
      "execution_count": null,
      "outputs": []
    },
    {
      "cell_type": "markdown",
      "metadata": {},
      "source": [
        "In both Tidier and DataFramesMeta, only the rows to which the criteria is `true` are returned. This means that you don't need to worry about `missing` values in cases where the criteria do not return `false` nor `true.\n",
        "\n",
        "### Filtering with one criteria\n",
        "\n",
        "Filtering all the rows with `species` = \"Adelie\".\n",
        "\n",
        "::: {.panel-tabset}\n",
        "\n",
        "## Tidier\n"
      ],
      "id": "3ab3f109"
    },
    {
      "cell_type": "code",
      "metadata": {},
      "source": [
        "@filter penguins species == \"Adelie\""
      ],
      "id": "145b4dbe",
      "execution_count": null,
      "outputs": []
    },
    {
      "cell_type": "markdown",
      "metadata": {},
      "source": [
        "## DataFramesMeta\n"
      ],
      "id": "ec5ac109"
    },
    {
      "cell_type": "code",
      "metadata": {},
      "source": [
        "DFM.@rsubset penguins :species == \"Adelie\""
      ],
      "id": "23034937",
      "execution_count": null,
      "outputs": []
    },
    {
      "cell_type": "markdown",
      "metadata": {},
      "source": [
        "## DataFrames\n"
      ],
      "id": "2e1677c6"
    },
    {
      "cell_type": "code",
      "metadata": {},
      "source": [
        "filter(r -> r.species == \"Adelie\", penguins)"
      ],
      "id": "db6373f2",
      "execution_count": null,
      "outputs": []
    },
    {
      "cell_type": "markdown",
      "metadata": {},
      "source": [
        ":::\n",
        "\n",
        "### Filtering with several criteria\n",
        "\n",
        "Filtering all the rows with `species` = \"Adelie\", `sex` = \"male\" and `body_mass_g` > 4000.\n",
        "\n",
        "::: {.panel-tabset}\n",
        "\n",
        "## Tidier\n"
      ],
      "id": "34324ff3"
    },
    {
      "cell_type": "code",
      "metadata": {},
      "source": [
        "@filter penguins species == \"Adelie\" sex == \"male\" body_mass_g > 4000"
      ],
      "id": "d09aae2f",
      "execution_count": null,
      "outputs": []
    },
    {
      "cell_type": "markdown",
      "metadata": {},
      "source": [
        "## DataFramesMeta\n"
      ],
      "id": "b62d6a8f"
    },
    {
      "cell_type": "code",
      "metadata": {},
      "source": [
        "DFM.@rsubset penguins :species == \"Adelie\" :sex == \"male\" :body_mass_g > 4000"
      ],
      "id": "859fc6c6",
      "execution_count": null,
      "outputs": []
    },
    {
      "cell_type": "markdown",
      "metadata": {},
      "source": [
        "## DataFrames\n"
      ],
      "id": "94de5470"
    },
    {
      "cell_type": "code",
      "metadata": {},
      "source": [
        "filter(r -> ((r.species == \"Adelie\") & (r.sex == \"male\") & (r.body_mass_g > 4000)) == true, penguins)"
      ],
      "id": "8b2476e0",
      "execution_count": null,
      "outputs": []
    },
    {
      "cell_type": "markdown",
      "metadata": {},
      "source": [
        ":::\n",
        "\n",
        "\n",
        "## Creating columns\n",
        "\n",
        "::: {.panel-tabset}\n",
        "\n",
        "## Tidier\n",
        "\n",
        "## DataFramesMeta\n",
        "\n",
        "## DataFrames\n",
        "\n",
        ":::"
      ],
      "id": "34a91faa"
    }
  ],
  "metadata": {
    "kernelspec": {
      "name": "julia-1.10",
      "language": "julia",
      "display_name": "Julia 1.10.4",
      "path": "/home/vituri/.local/share/jupyter/kernels/julia-1.10"
    }
  },
  "nbformat": 4,
  "nbformat_minor": 5
}