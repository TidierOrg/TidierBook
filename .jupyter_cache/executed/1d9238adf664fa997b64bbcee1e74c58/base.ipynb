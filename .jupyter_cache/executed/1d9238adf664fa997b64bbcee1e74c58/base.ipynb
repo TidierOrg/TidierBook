{
 "cells": [
  {
   "cell_type": "code",
   "execution_count": 1,
   "id": "71a9caef",
   "metadata": {},
   "outputs": [
    {
     "name": "stderr",
     "output_type": "stream",
     "text": [
      "\u001b[36m\u001b[1m[ \u001b[22m\u001b[39m\u001b[36m\u001b[1mInfo: \u001b[22m\u001b[39mPrecompiling Plots [91a5bcdd-55d7-5caf-9e0b-520d859cae80]\n"
     ]
    },
    {
     "name": "stderr",
     "output_type": "stream",
     "text": [
      "\u001b[33m\u001b[1m┌ \u001b[22m\u001b[39m\u001b[33m\u001b[1mWarning: \u001b[22m\u001b[39mbackend `GR` is not installed.\n",
      "\u001b[33m\u001b[1m└ \u001b[22m\u001b[39m\u001b[90m@ Plots ~/.julia/packages/Plots/ju9dp/src/backends.jl:43\u001b[39m\n"
     ]
    },
    {
     "name": "stderr",
     "output_type": "stream",
     "text": [
      "\u001b[36m\u001b[1m[ \u001b[22m\u001b[39m\u001b[36m\u001b[1mInfo: \u001b[22m\u001b[39mPrecompiling IJuliaExt [2f4121a4-3b3a-5ce6-9c5e-1f2673ce168a]\n"
     ]
    },
    {
     "name": "stderr",
     "output_type": "stream",
     "text": [
      "\u001b[36m\u001b[1m[ \u001b[22m\u001b[39m\u001b[36m\u001b[1mInfo: \u001b[22m\u001b[39mPrecompiling GeometryBasicsExt [b238bd29-021f-5edc-8b0e-16b9cda5f63a]\n"
     ]
    },
    {
     "name": "stderr",
     "output_type": "stream",
     "text": [
      "\u001b[36m\u001b[1m[ \u001b[22m\u001b[39m\u001b[36m\u001b[1mInfo: \u001b[22m\u001b[39mPrecompiling FileIOExt [f5f51d8f-5827-5d2e-939b-192fcd6ec70c]\n"
     ]
    }
   ],
   "source": [
    "import IJulia\n",
    "import Base64\n",
    "\n",
    "# The julia kernel has built in support for Revise.jl, so this is the \n",
    "# recommended approach for long-running sessions:\n",
    "# https://github.com/JuliaLang/IJulia.jl/blob/9b10fa9b879574bbf720f5285029e07758e50a5e/src/kernel.jl#L46-L51\n",
    "\n",
    "# Users should enable revise within .julia/config/startup_ijulia.jl:\n",
    "# https://timholy.github.io/Revise.jl/stable/config/#Using-Revise-automatically-within-Jupyter/IJulia-1\n",
    "\n",
    "# clear console history\n",
    "IJulia.clear_history()\n",
    "\n",
    "fig_width = 7\n",
    "fig_height = 5\n",
    "fig_format = :retina\n",
    "fig_dpi = 96\n",
    "\n",
    "# no retina format type, use svg for high quality type/marks\n",
    "if fig_format == :retina\n",
    "  fig_format = :svg\n",
    "elseif fig_format == :pdf\n",
    "  fig_dpi = 96\n",
    "  # Enable PDF support for IJulia\n",
    "  IJulia.register_mime(MIME(\"application/pdf\"))\n",
    "end\n",
    "\n",
    "# convert inches to pixels\n",
    "fig_width = fig_width * fig_dpi\n",
    "fig_height = fig_height * fig_dpi\n",
    "\n",
    "# Intialize Plots w/ default fig width/height\n",
    "try\n",
    "  import Plots\n",
    "\n",
    "  # Plots.jl doesn't support PDF output for versions < 1.28.1\n",
    "  # so use png (if the DPI remains the default of 300 then set to 96)\n",
    "  if (Plots._current_plots_version < v\"1.28.1\") & (fig_format == :pdf)\n",
    "    Plots.gr(size=(fig_width, fig_height), fmt = :png, dpi = fig_dpi)\n",
    "  else\n",
    "    Plots.gr(size=(fig_width, fig_height), fmt = fig_format, dpi = fig_dpi)\n",
    "  end\n",
    "catch e\n",
    "  # @warn \"Plots init\" exception=(e, catch_backtrace())\n",
    "end\n",
    "\n",
    "# Initialize CairoMakie with default fig width/height\n",
    "try\n",
    "  import CairoMakie\n",
    "\n",
    "  # CairoMakie's display() in PDF format opens an interactive window\n",
    "  # instead of saving to the ipynb file, so we don't do that.\n",
    "  # https://github.com/quarto-dev/quarto-cli/issues/7548\n",
    "  if fig_format == :pdf\n",
    "    CairoMakie.activate!(type = \"png\")\n",
    "  else\n",
    "    CairoMakie.activate!(type = string(fig_format))\n",
    "  end\n",
    "  CairoMakie.update_theme!(resolution=(fig_width, fig_height))\n",
    "catch e\n",
    "    # @warn \"CairoMakie init\" exception=(e, catch_backtrace())\n",
    "end\n",
    "  \n",
    "# Set run_path if specified\n",
    "try\n",
    "  run_path = \"L2hvbWUvdml0dXJpL0RvY3VtZW50b3MvR2l0SHViL1RpZGllckJvb2sy\"\n",
    "  if !isempty(run_path)\n",
    "    run_path = String(Base64.base64decode(run_path))\n",
    "    cd(run_path)\n",
    "  end\n",
    "catch e\n",
    "  @warn \"Run path init:\" exception=(e, catch_backtrace())\n",
    "end\n",
    "\n",
    "\n",
    "# emulate old Pkg.installed beahvior, see\n",
    "# https://discourse.julialang.org/t/how-to-use-pkg-dependencies-instead-of-pkg-installed/36416/9\n",
    "import Pkg\n",
    "function isinstalled(pkg::String)\n",
    "  any(x -> x.name == pkg && x.is_direct_dep, values(Pkg.dependencies()))\n",
    "end\n",
    "\n",
    "# ojs_define\n",
    "if isinstalled(\"JSON\") && isinstalled(\"DataFrames\")\n",
    "  import JSON, DataFrames\n",
    "  global function ojs_define(; kwargs...)\n",
    "    convert(x) = x\n",
    "    convert(x::DataFrames.AbstractDataFrame) = Tables.rows(x)\n",
    "    content = Dict(\"contents\" => [Dict(\"name\" => k, \"value\" => convert(v)) for (k, v) in kwargs])\n",
    "    tag = \"<script type='ojs-define'>$(JSON.json(content))</script>\"\n",
    "    IJulia.display(MIME(\"text/html\"), tag)\n",
    "  end\n",
    "elseif isinstalled(\"JSON\")\n",
    "  import JSON\n",
    "  global function ojs_define(; kwargs...)\n",
    "    content = Dict(\"contents\" => [Dict(\"name\" => k, \"value\" => v) for (k, v) in kwargs])\n",
    "    tag = \"<script type='ojs-define'>$(JSON.json(content))</script>\"\n",
    "    IJulia.display(MIME(\"text/html\"), tag)\n",
    "  end\n",
    "else\n",
    "  global function ojs_define(; kwargs...)\n",
    "    @warn \"JSON package not available. Please install the JSON.jl package to use ojs_define.\"\n",
    "  end\n",
    "end\n",
    "\n",
    "\n",
    "# don't return kernel dependencies (b/c Revise should take care of dependencies)\n",
    "nothing\n"
   ]
  },
  {
   "cell_type": "code",
   "execution_count": 2,
   "id": "62afceca",
   "metadata": {},
   "outputs": [
    {
     "name": "stderr",
     "output_type": "stream",
     "text": [
      "\u001b[36m\u001b[1m[ \u001b[22m\u001b[39m\u001b[36m\u001b[1mInfo: \u001b[22m\u001b[39mPrecompiling TimeZonesRecipesBaseExt [7f969005-de8d-58b6-a711-4f863f324b87]\n"
     ]
    },
    {
     "name": "stderr",
     "output_type": "stream",
     "text": [
      "\u001b[36m\u001b[1m[ \u001b[22m\u001b[39m\u001b[36m\u001b[1mInfo: \u001b[22m\u001b[39mPrecompiling UnitfulExt [0e51ec96-f580-5f12-a625-1297083d7970]\n"
     ]
    },
    {
     "name": "stderr",
     "output_type": "stream",
     "text": [
      "\u001b[36m\u001b[1m[ \u001b[22m\u001b[39m\u001b[36m\u001b[1mInfo: \u001b[22m\u001b[39mPrecompiling DataFramesExt [9e668153-f473-5010-85ff-a85cbe3b95ea]\n"
     ]
    },
    {
     "data": {
      "text/html": [
       "<div><div style = \"float: left;\"><span>344×7 DataFrame</span></div><div style = \"float: right;\"><span style = \"font-style: italic;\">319 rows omitted</span></div><div style = \"clear: both;\"></div></div><div class = \"data-frame\" style = \"overflow-x: scroll;\"><table class = \"data-frame\" style = \"margin-bottom: 6px;\"><thead><tr class = \"header\"><th class = \"rowNumber\" style = \"font-weight: bold; text-align: right;\">Row</th><th style = \"text-align: left;\">species</th><th style = \"text-align: left;\">island</th><th style = \"text-align: left;\">bill_length_mm</th><th style = \"text-align: left;\">bill_depth_mm</th><th style = \"text-align: left;\">flipper_length_mm</th><th style = \"text-align: left;\">body_mass_g</th><th style = \"text-align: left;\">sex</th></tr><tr class = \"subheader headerLastRow\"><th class = \"rowNumber\" style = \"font-weight: bold; text-align: right;\"></th><th title = \"InlineStrings.String15\" style = \"text-align: left;\">String15</th><th title = \"InlineStrings.String15\" style = \"text-align: left;\">String15</th><th title = \"Union{Missing, Float64}\" style = \"text-align: left;\">Float64?</th><th title = \"Union{Missing, Float64}\" style = \"text-align: left;\">Float64?</th><th title = \"Union{Missing, Int64}\" style = \"text-align: left;\">Int64?</th><th title = \"Union{Missing, Int64}\" style = \"text-align: left;\">Int64?</th><th title = \"Union{Missing, InlineStrings.String7}\" style = \"text-align: left;\">String7</th></tr></thead><tbody><tr><td class = \"rowNumber\" style = \"font-weight: bold; text-align: right;\">1</td><td style = \"text-align: left;\">Adelie</td><td style = \"text-align: left;\">Torgersen</td><td style = \"text-align: right;\">39.1</td><td style = \"text-align: right;\">18.7</td><td style = \"text-align: right;\">181</td><td style = \"text-align: right;\">3750</td><td style = \"text-align: left;\">male</td></tr><tr><td class = \"rowNumber\" style = \"font-weight: bold; text-align: right;\">2</td><td style = \"text-align: left;\">Adelie</td><td style = \"text-align: left;\">Torgersen</td><td style = \"text-align: right;\">39.5</td><td style = \"text-align: right;\">17.4</td><td style = \"text-align: right;\">186</td><td style = \"text-align: right;\">3800</td><td style = \"text-align: left;\">female</td></tr><tr><td class = \"rowNumber\" style = \"font-weight: bold; text-align: right;\">3</td><td style = \"text-align: left;\">Adelie</td><td style = \"text-align: left;\">Torgersen</td><td style = \"text-align: right;\">40.3</td><td style = \"text-align: right;\">18.0</td><td style = \"text-align: right;\">195</td><td style = \"text-align: right;\">3250</td><td style = \"text-align: left;\">female</td></tr><tr><td class = \"rowNumber\" style = \"font-weight: bold; text-align: right;\">4</td><td style = \"text-align: left;\">Adelie</td><td style = \"text-align: left;\">Torgersen</td><td style = \"font-style: italic; text-align: right;\">missing</td><td style = \"font-style: italic; text-align: right;\">missing</td><td style = \"font-style: italic; text-align: right;\">missing</td><td style = \"font-style: italic; text-align: right;\">missing</td><td style = \"font-style: italic; text-align: left;\">missing</td></tr><tr><td class = \"rowNumber\" style = \"font-weight: bold; text-align: right;\">5</td><td style = \"text-align: left;\">Adelie</td><td style = \"text-align: left;\">Torgersen</td><td style = \"text-align: right;\">36.7</td><td style = \"text-align: right;\">19.3</td><td style = \"text-align: right;\">193</td><td style = \"text-align: right;\">3450</td><td style = \"text-align: left;\">female</td></tr><tr><td class = \"rowNumber\" style = \"font-weight: bold; text-align: right;\">6</td><td style = \"text-align: left;\">Adelie</td><td style = \"text-align: left;\">Torgersen</td><td style = \"text-align: right;\">39.3</td><td style = \"text-align: right;\">20.6</td><td style = \"text-align: right;\">190</td><td style = \"text-align: right;\">3650</td><td style = \"text-align: left;\">male</td></tr><tr><td class = \"rowNumber\" style = \"font-weight: bold; text-align: right;\">7</td><td style = \"text-align: left;\">Adelie</td><td style = \"text-align: left;\">Torgersen</td><td style = \"text-align: right;\">38.9</td><td style = \"text-align: right;\">17.8</td><td style = \"text-align: right;\">181</td><td style = \"text-align: right;\">3625</td><td style = \"text-align: left;\">female</td></tr><tr><td class = \"rowNumber\" style = \"font-weight: bold; text-align: right;\">8</td><td style = \"text-align: left;\">Adelie</td><td style = \"text-align: left;\">Torgersen</td><td style = \"text-align: right;\">39.2</td><td style = \"text-align: right;\">19.6</td><td style = \"text-align: right;\">195</td><td style = \"text-align: right;\">4675</td><td style = \"text-align: left;\">male</td></tr><tr><td class = \"rowNumber\" style = \"font-weight: bold; text-align: right;\">9</td><td style = \"text-align: left;\">Adelie</td><td style = \"text-align: left;\">Torgersen</td><td style = \"text-align: right;\">34.1</td><td style = \"text-align: right;\">18.1</td><td style = \"text-align: right;\">193</td><td style = \"text-align: right;\">3475</td><td style = \"font-style: italic; text-align: left;\">missing</td></tr><tr><td class = \"rowNumber\" style = \"font-weight: bold; text-align: right;\">10</td><td style = \"text-align: left;\">Adelie</td><td style = \"text-align: left;\">Torgersen</td><td style = \"text-align: right;\">42.0</td><td style = \"text-align: right;\">20.2</td><td style = \"text-align: right;\">190</td><td style = \"text-align: right;\">4250</td><td style = \"font-style: italic; text-align: left;\">missing</td></tr><tr><td class = \"rowNumber\" style = \"font-weight: bold; text-align: right;\">11</td><td style = \"text-align: left;\">Adelie</td><td style = \"text-align: left;\">Torgersen</td><td style = \"text-align: right;\">37.8</td><td style = \"text-align: right;\">17.1</td><td style = \"text-align: right;\">186</td><td style = \"text-align: right;\">3300</td><td style = \"font-style: italic; text-align: left;\">missing</td></tr><tr><td class = \"rowNumber\" style = \"font-weight: bold; text-align: right;\">12</td><td style = \"text-align: left;\">Adelie</td><td style = \"text-align: left;\">Torgersen</td><td style = \"text-align: right;\">37.8</td><td style = \"text-align: right;\">17.3</td><td style = \"text-align: right;\">180</td><td style = \"text-align: right;\">3700</td><td style = \"font-style: italic; text-align: left;\">missing</td></tr><tr><td class = \"rowNumber\" style = \"font-weight: bold; text-align: right;\">13</td><td style = \"text-align: left;\">Adelie</td><td style = \"text-align: left;\">Torgersen</td><td style = \"text-align: right;\">41.1</td><td style = \"text-align: right;\">17.6</td><td style = \"text-align: right;\">182</td><td style = \"text-align: right;\">3200</td><td style = \"text-align: left;\">female</td></tr><tr><td style = \"text-align: right;\">&vellip;</td><td style = \"text-align: right;\">&vellip;</td><td style = \"text-align: right;\">&vellip;</td><td style = \"text-align: right;\">&vellip;</td><td style = \"text-align: right;\">&vellip;</td><td style = \"text-align: right;\">&vellip;</td><td style = \"text-align: right;\">&vellip;</td><td style = \"text-align: right;\">&vellip;</td></tr><tr><td class = \"rowNumber\" style = \"font-weight: bold; text-align: right;\">333</td><td style = \"text-align: left;\">Chinstrap</td><td style = \"text-align: left;\">Dream</td><td style = \"text-align: right;\">45.2</td><td style = \"text-align: right;\">16.6</td><td style = \"text-align: right;\">191</td><td style = \"text-align: right;\">3250</td><td style = \"text-align: left;\">female</td></tr><tr><td class = \"rowNumber\" style = \"font-weight: bold; text-align: right;\">334</td><td style = \"text-align: left;\">Chinstrap</td><td style = \"text-align: left;\">Dream</td><td style = \"text-align: right;\">49.3</td><td style = \"text-align: right;\">19.9</td><td style = \"text-align: right;\">203</td><td style = \"text-align: right;\">4050</td><td style = \"text-align: left;\">male</td></tr><tr><td class = \"rowNumber\" style = \"font-weight: bold; text-align: right;\">335</td><td style = \"text-align: left;\">Chinstrap</td><td style = \"text-align: left;\">Dream</td><td style = \"text-align: right;\">50.2</td><td style = \"text-align: right;\">18.8</td><td style = \"text-align: right;\">202</td><td style = \"text-align: right;\">3800</td><td style = \"text-align: left;\">male</td></tr><tr><td class = \"rowNumber\" style = \"font-weight: bold; text-align: right;\">336</td><td style = \"text-align: left;\">Chinstrap</td><td style = \"text-align: left;\">Dream</td><td style = \"text-align: right;\">45.6</td><td style = \"text-align: right;\">19.4</td><td style = \"text-align: right;\">194</td><td style = \"text-align: right;\">3525</td><td style = \"text-align: left;\">female</td></tr><tr><td class = \"rowNumber\" style = \"font-weight: bold; text-align: right;\">337</td><td style = \"text-align: left;\">Chinstrap</td><td style = \"text-align: left;\">Dream</td><td style = \"text-align: right;\">51.9</td><td style = \"text-align: right;\">19.5</td><td style = \"text-align: right;\">206</td><td style = \"text-align: right;\">3950</td><td style = \"text-align: left;\">male</td></tr><tr><td class = \"rowNumber\" style = \"font-weight: bold; text-align: right;\">338</td><td style = \"text-align: left;\">Chinstrap</td><td style = \"text-align: left;\">Dream</td><td style = \"text-align: right;\">46.8</td><td style = \"text-align: right;\">16.5</td><td style = \"text-align: right;\">189</td><td style = \"text-align: right;\">3650</td><td style = \"text-align: left;\">female</td></tr><tr><td class = \"rowNumber\" style = \"font-weight: bold; text-align: right;\">339</td><td style = \"text-align: left;\">Chinstrap</td><td style = \"text-align: left;\">Dream</td><td style = \"text-align: right;\">45.7</td><td style = \"text-align: right;\">17.0</td><td style = \"text-align: right;\">195</td><td style = \"text-align: right;\">3650</td><td style = \"text-align: left;\">female</td></tr><tr><td class = \"rowNumber\" style = \"font-weight: bold; text-align: right;\">340</td><td style = \"text-align: left;\">Chinstrap</td><td style = \"text-align: left;\">Dream</td><td style = \"text-align: right;\">55.8</td><td style = \"text-align: right;\">19.8</td><td style = \"text-align: right;\">207</td><td style = \"text-align: right;\">4000</td><td style = \"text-align: left;\">male</td></tr><tr><td class = \"rowNumber\" style = \"font-weight: bold; text-align: right;\">341</td><td style = \"text-align: left;\">Chinstrap</td><td style = \"text-align: left;\">Dream</td><td style = \"text-align: right;\">43.5</td><td style = \"text-align: right;\">18.1</td><td style = \"text-align: right;\">202</td><td style = \"text-align: right;\">3400</td><td style = \"text-align: left;\">female</td></tr><tr><td class = \"rowNumber\" style = \"font-weight: bold; text-align: right;\">342</td><td style = \"text-align: left;\">Chinstrap</td><td style = \"text-align: left;\">Dream</td><td style = \"text-align: right;\">49.6</td><td style = \"text-align: right;\">18.2</td><td style = \"text-align: right;\">193</td><td style = \"text-align: right;\">3775</td><td style = \"text-align: left;\">male</td></tr><tr><td class = \"rowNumber\" style = \"font-weight: bold; text-align: right;\">343</td><td style = \"text-align: left;\">Chinstrap</td><td style = \"text-align: left;\">Dream</td><td style = \"text-align: right;\">50.8</td><td style = \"text-align: right;\">19.0</td><td style = \"text-align: right;\">210</td><td style = \"text-align: right;\">4100</td><td style = \"text-align: left;\">male</td></tr><tr><td class = \"rowNumber\" style = \"font-weight: bold; text-align: right;\">344</td><td style = \"text-align: left;\">Chinstrap</td><td style = \"text-align: left;\">Dream</td><td style = \"text-align: right;\">50.2</td><td style = \"text-align: right;\">18.7</td><td style = \"text-align: right;\">198</td><td style = \"text-align: right;\">3775</td><td style = \"text-align: left;\">female</td></tr></tbody></table></div>"
      ],
      "text/latex": [
       "\\begin{tabular}{r|ccccccc}\n",
       "\t& species & island & bill\\_length\\_mm & bill\\_depth\\_mm & flipper\\_length\\_mm & body\\_mass\\_g & \\\\\n",
       "\t\\hline\n",
       "\t& String15 & String15 & Float64? & Float64? & Int64? & Int64? & \\\\\n",
       "\t\\hline\n",
       "\t1 & Adelie & Torgersen & 39.1 & 18.7 & 181 & 3750 & $\\dots$ \\\\\n",
       "\t2 & Adelie & Torgersen & 39.5 & 17.4 & 186 & 3800 & $\\dots$ \\\\\n",
       "\t3 & Adelie & Torgersen & 40.3 & 18.0 & 195 & 3250 & $\\dots$ \\\\\n",
       "\t4 & Adelie & Torgersen & \\emph{missing} & \\emph{missing} & \\emph{missing} & \\emph{missing} & $\\dots$ \\\\\n",
       "\t5 & Adelie & Torgersen & 36.7 & 19.3 & 193 & 3450 & $\\dots$ \\\\\n",
       "\t6 & Adelie & Torgersen & 39.3 & 20.6 & 190 & 3650 & $\\dots$ \\\\\n",
       "\t7 & Adelie & Torgersen & 38.9 & 17.8 & 181 & 3625 & $\\dots$ \\\\\n",
       "\t8 & Adelie & Torgersen & 39.2 & 19.6 & 195 & 4675 & $\\dots$ \\\\\n",
       "\t9 & Adelie & Torgersen & 34.1 & 18.1 & 193 & 3475 & $\\dots$ \\\\\n",
       "\t10 & Adelie & Torgersen & 42.0 & 20.2 & 190 & 4250 & $\\dots$ \\\\\n",
       "\t11 & Adelie & Torgersen & 37.8 & 17.1 & 186 & 3300 & $\\dots$ \\\\\n",
       "\t12 & Adelie & Torgersen & 37.8 & 17.3 & 180 & 3700 & $\\dots$ \\\\\n",
       "\t13 & Adelie & Torgersen & 41.1 & 17.6 & 182 & 3200 & $\\dots$ \\\\\n",
       "\t14 & Adelie & Torgersen & 38.6 & 21.2 & 191 & 3800 & $\\dots$ \\\\\n",
       "\t15 & Adelie & Torgersen & 34.6 & 21.1 & 198 & 4400 & $\\dots$ \\\\\n",
       "\t16 & Adelie & Torgersen & 36.6 & 17.8 & 185 & 3700 & $\\dots$ \\\\\n",
       "\t17 & Adelie & Torgersen & 38.7 & 19.0 & 195 & 3450 & $\\dots$ \\\\\n",
       "\t18 & Adelie & Torgersen & 42.5 & 20.7 & 197 & 4500 & $\\dots$ \\\\\n",
       "\t19 & Adelie & Torgersen & 34.4 & 18.4 & 184 & 3325 & $\\dots$ \\\\\n",
       "\t20 & Adelie & Torgersen & 46.0 & 21.5 & 194 & 4200 & $\\dots$ \\\\\n",
       "\t21 & Adelie & Biscoe & 37.8 & 18.3 & 174 & 3400 & $\\dots$ \\\\\n",
       "\t22 & Adelie & Biscoe & 37.7 & 18.7 & 180 & 3600 & $\\dots$ \\\\\n",
       "\t23 & Adelie & Biscoe & 35.9 & 19.2 & 189 & 3800 & $\\dots$ \\\\\n",
       "\t24 & Adelie & Biscoe & 38.2 & 18.1 & 185 & 3950 & $\\dots$ \\\\\n",
       "\t25 & Adelie & Biscoe & 38.8 & 17.2 & 180 & 3800 & $\\dots$ \\\\\n",
       "\t26 & Adelie & Biscoe & 35.3 & 18.9 & 187 & 3800 & $\\dots$ \\\\\n",
       "\t27 & Adelie & Biscoe & 40.6 & 18.6 & 183 & 3550 & $\\dots$ \\\\\n",
       "\t28 & Adelie & Biscoe & 40.5 & 17.9 & 187 & 3200 & $\\dots$ \\\\\n",
       "\t29 & Adelie & Biscoe & 37.9 & 18.6 & 172 & 3150 & $\\dots$ \\\\\n",
       "\t30 & Adelie & Biscoe & 40.5 & 18.9 & 180 & 3950 & $\\dots$ \\\\\n",
       "\t$\\dots$ & $\\dots$ & $\\dots$ & $\\dots$ & $\\dots$ & $\\dots$ & $\\dots$ &  \\\\\n",
       "\\end{tabular}\n"
      ],
      "text/plain": [
       "\u001b[1m344×7 DataFrame\u001b[0m\n",
       "\u001b[1m Row \u001b[0m│\u001b[1m species   \u001b[0m\u001b[1m island    \u001b[0m\u001b[1m bill_length_mm \u001b[0m\u001b[1m bill_depth_mm \u001b[0m\u001b[1m flipper_length_mm \u001b[0m\u001b[1m\u001b[0m ⋯\n",
       "     │\u001b[90m String15  \u001b[0m\u001b[90m String15  \u001b[0m\u001b[90m Float64?       \u001b[0m\u001b[90m Float64?      \u001b[0m\u001b[90m Int64?            \u001b[0m\u001b[90m\u001b[0m ⋯\n",
       "─────┼──────────────────────────────────────────────────────────────────────────\n",
       "   1 │ Adelie     Torgersen            39.1           18.7                181  ⋯\n",
       "   2 │ Adelie     Torgersen            39.5           17.4                186\n",
       "   3 │ Adelie     Torgersen            40.3           18.0                195\n",
       "   4 │ Adelie     Torgersen \u001b[90m      missing   \u001b[0m\u001b[90m     missing   \u001b[0m\u001b[90m           missing \u001b[0m\u001b[90m\u001b[0m\n",
       "   5 │ Adelie     Torgersen            36.7           19.3                193  ⋯\n",
       "   6 │ Adelie     Torgersen            39.3           20.6                190\n",
       "   7 │ Adelie     Torgersen            38.9           17.8                181\n",
       "   8 │ Adelie     Torgersen            39.2           19.6                195\n",
       "   9 │ Adelie     Torgersen            34.1           18.1                193  ⋯\n",
       "  10 │ Adelie     Torgersen            42.0           20.2                190\n",
       "  11 │ Adelie     Torgersen            37.8           17.1                186\n",
       "  ⋮  │     ⋮          ⋮            ⋮               ⋮                ⋮          ⋱\n",
       " 335 │ Chinstrap  Dream                50.2           18.8                202\n",
       " 336 │ Chinstrap  Dream                45.6           19.4                194  ⋯\n",
       " 337 │ Chinstrap  Dream                51.9           19.5                206\n",
       " 338 │ Chinstrap  Dream                46.8           16.5                189\n",
       " 339 │ Chinstrap  Dream                45.7           17.0                195\n",
       " 340 │ Chinstrap  Dream                55.8           19.8                207  ⋯\n",
       " 341 │ Chinstrap  Dream                43.5           18.1                202\n",
       " 342 │ Chinstrap  Dream                49.6           18.2                193\n",
       " 343 │ Chinstrap  Dream                50.8           19.0                210\n",
       " 344 │ Chinstrap  Dream                50.2           18.7                198  ⋯\n",
       "\u001b[36m                                                  2 columns and 323 rows omitted\u001b[0m"
      ]
     },
     "execution_count": 2,
     "metadata": {},
     "output_type": "execute_result"
    }
   ],
   "source": [
    "using DataFrames, PalmerPenguins\n",
    "using Tidier, DataFramesMeta\n",
    "\n",
    "penguins = PalmerPenguins.load() |> DataFrame"
   ]
  },
  {
   "cell_type": "code",
   "execution_count": 3,
   "id": "067ee3c7",
   "metadata": {},
   "outputs": [
    {
     "data": {
      "text/html": [
       "<div><div style = \"float: left;\"><span>152×7 DataFrame</span></div><div style = \"float: right;\"><span style = \"font-style: italic;\">127 rows omitted</span></div><div style = \"clear: both;\"></div></div><div class = \"data-frame\" style = \"overflow-x: scroll;\"><table class = \"data-frame\" style = \"margin-bottom: 6px;\"><thead><tr class = \"header\"><th class = \"rowNumber\" style = \"font-weight: bold; text-align: right;\">Row</th><th style = \"text-align: left;\">species</th><th style = \"text-align: left;\">island</th><th style = \"text-align: left;\">bill_length_mm</th><th style = \"text-align: left;\">bill_depth_mm</th><th style = \"text-align: left;\">flipper_length_mm</th><th style = \"text-align: left;\">body_mass_g</th><th style = \"text-align: left;\">sex</th></tr><tr class = \"subheader headerLastRow\"><th class = \"rowNumber\" style = \"font-weight: bold; text-align: right;\"></th><th title = \"InlineStrings.String15\" style = \"text-align: left;\">String15</th><th title = \"InlineStrings.String15\" style = \"text-align: left;\">String15</th><th title = \"Union{Missing, Float64}\" style = \"text-align: left;\">Float64?</th><th title = \"Union{Missing, Float64}\" style = \"text-align: left;\">Float64?</th><th title = \"Union{Missing, Int64}\" style = \"text-align: left;\">Int64?</th><th title = \"Union{Missing, Int64}\" style = \"text-align: left;\">Int64?</th><th title = \"Union{Missing, InlineStrings.String7}\" style = \"text-align: left;\">String7</th></tr></thead><tbody><tr><td class = \"rowNumber\" style = \"font-weight: bold; text-align: right;\">1</td><td style = \"text-align: left;\">Adelie</td><td style = \"text-align: left;\">Torgersen</td><td style = \"text-align: right;\">39.1</td><td style = \"text-align: right;\">18.7</td><td style = \"text-align: right;\">181</td><td style = \"text-align: right;\">3750</td><td style = \"text-align: left;\">male</td></tr><tr><td class = \"rowNumber\" style = \"font-weight: bold; text-align: right;\">2</td><td style = \"text-align: left;\">Adelie</td><td style = \"text-align: left;\">Torgersen</td><td style = \"text-align: right;\">39.5</td><td style = \"text-align: right;\">17.4</td><td style = \"text-align: right;\">186</td><td style = \"text-align: right;\">3800</td><td style = \"text-align: left;\">female</td></tr><tr><td class = \"rowNumber\" style = \"font-weight: bold; text-align: right;\">3</td><td style = \"text-align: left;\">Adelie</td><td style = \"text-align: left;\">Torgersen</td><td style = \"text-align: right;\">40.3</td><td style = \"text-align: right;\">18.0</td><td style = \"text-align: right;\">195</td><td style = \"text-align: right;\">3250</td><td style = \"text-align: left;\">female</td></tr><tr><td class = \"rowNumber\" style = \"font-weight: bold; text-align: right;\">4</td><td style = \"text-align: left;\">Adelie</td><td style = \"text-align: left;\">Torgersen</td><td style = \"font-style: italic; text-align: right;\">missing</td><td style = \"font-style: italic; text-align: right;\">missing</td><td style = \"font-style: italic; text-align: right;\">missing</td><td style = \"font-style: italic; text-align: right;\">missing</td><td style = \"font-style: italic; text-align: left;\">missing</td></tr><tr><td class = \"rowNumber\" style = \"font-weight: bold; text-align: right;\">5</td><td style = \"text-align: left;\">Adelie</td><td style = \"text-align: left;\">Torgersen</td><td style = \"text-align: right;\">36.7</td><td style = \"text-align: right;\">19.3</td><td style = \"text-align: right;\">193</td><td style = \"text-align: right;\">3450</td><td style = \"text-align: left;\">female</td></tr><tr><td class = \"rowNumber\" style = \"font-weight: bold; text-align: right;\">6</td><td style = \"text-align: left;\">Adelie</td><td style = \"text-align: left;\">Torgersen</td><td style = \"text-align: right;\">39.3</td><td style = \"text-align: right;\">20.6</td><td style = \"text-align: right;\">190</td><td style = \"text-align: right;\">3650</td><td style = \"text-align: left;\">male</td></tr><tr><td class = \"rowNumber\" style = \"font-weight: bold; text-align: right;\">7</td><td style = \"text-align: left;\">Adelie</td><td style = \"text-align: left;\">Torgersen</td><td style = \"text-align: right;\">38.9</td><td style = \"text-align: right;\">17.8</td><td style = \"text-align: right;\">181</td><td style = \"text-align: right;\">3625</td><td style = \"text-align: left;\">female</td></tr><tr><td class = \"rowNumber\" style = \"font-weight: bold; text-align: right;\">8</td><td style = \"text-align: left;\">Adelie</td><td style = \"text-align: left;\">Torgersen</td><td style = \"text-align: right;\">39.2</td><td style = \"text-align: right;\">19.6</td><td style = \"text-align: right;\">195</td><td style = \"text-align: right;\">4675</td><td style = \"text-align: left;\">male</td></tr><tr><td class = \"rowNumber\" style = \"font-weight: bold; text-align: right;\">9</td><td style = \"text-align: left;\">Adelie</td><td style = \"text-align: left;\">Torgersen</td><td style = \"text-align: right;\">34.1</td><td style = \"text-align: right;\">18.1</td><td style = \"text-align: right;\">193</td><td style = \"text-align: right;\">3475</td><td style = \"font-style: italic; text-align: left;\">missing</td></tr><tr><td class = \"rowNumber\" style = \"font-weight: bold; text-align: right;\">10</td><td style = \"text-align: left;\">Adelie</td><td style = \"text-align: left;\">Torgersen</td><td style = \"text-align: right;\">42.0</td><td style = \"text-align: right;\">20.2</td><td style = \"text-align: right;\">190</td><td style = \"text-align: right;\">4250</td><td style = \"font-style: italic; text-align: left;\">missing</td></tr><tr><td class = \"rowNumber\" style = \"font-weight: bold; text-align: right;\">11</td><td style = \"text-align: left;\">Adelie</td><td style = \"text-align: left;\">Torgersen</td><td style = \"text-align: right;\">37.8</td><td style = \"text-align: right;\">17.1</td><td style = \"text-align: right;\">186</td><td style = \"text-align: right;\">3300</td><td style = \"font-style: italic; text-align: left;\">missing</td></tr><tr><td class = \"rowNumber\" style = \"font-weight: bold; text-align: right;\">12</td><td style = \"text-align: left;\">Adelie</td><td style = \"text-align: left;\">Torgersen</td><td style = \"text-align: right;\">37.8</td><td style = \"text-align: right;\">17.3</td><td style = \"text-align: right;\">180</td><td style = \"text-align: right;\">3700</td><td style = \"font-style: italic; text-align: left;\">missing</td></tr><tr><td class = \"rowNumber\" style = \"font-weight: bold; text-align: right;\">13</td><td style = \"text-align: left;\">Adelie</td><td style = \"text-align: left;\">Torgersen</td><td style = \"text-align: right;\">41.1</td><td style = \"text-align: right;\">17.6</td><td style = \"text-align: right;\">182</td><td style = \"text-align: right;\">3200</td><td style = \"text-align: left;\">female</td></tr><tr><td style = \"text-align: right;\">&vellip;</td><td style = \"text-align: right;\">&vellip;</td><td style = \"text-align: right;\">&vellip;</td><td style = \"text-align: right;\">&vellip;</td><td style = \"text-align: right;\">&vellip;</td><td style = \"text-align: right;\">&vellip;</td><td style = \"text-align: right;\">&vellip;</td><td style = \"text-align: right;\">&vellip;</td></tr><tr><td class = \"rowNumber\" style = \"font-weight: bold; text-align: right;\">141</td><td style = \"text-align: left;\">Adelie</td><td style = \"text-align: left;\">Dream</td><td style = \"text-align: right;\">40.2</td><td style = \"text-align: right;\">17.1</td><td style = \"text-align: right;\">193</td><td style = \"text-align: right;\">3400</td><td style = \"text-align: left;\">female</td></tr><tr><td class = \"rowNumber\" style = \"font-weight: bold; text-align: right;\">142</td><td style = \"text-align: left;\">Adelie</td><td style = \"text-align: left;\">Dream</td><td style = \"text-align: right;\">40.6</td><td style = \"text-align: right;\">17.2</td><td style = \"text-align: right;\">187</td><td style = \"text-align: right;\">3475</td><td style = \"text-align: left;\">male</td></tr><tr><td class = \"rowNumber\" style = \"font-weight: bold; text-align: right;\">143</td><td style = \"text-align: left;\">Adelie</td><td style = \"text-align: left;\">Dream</td><td style = \"text-align: right;\">32.1</td><td style = \"text-align: right;\">15.5</td><td style = \"text-align: right;\">188</td><td style = \"text-align: right;\">3050</td><td style = \"text-align: left;\">female</td></tr><tr><td class = \"rowNumber\" style = \"font-weight: bold; text-align: right;\">144</td><td style = \"text-align: left;\">Adelie</td><td style = \"text-align: left;\">Dream</td><td style = \"text-align: right;\">40.7</td><td style = \"text-align: right;\">17.0</td><td style = \"text-align: right;\">190</td><td style = \"text-align: right;\">3725</td><td style = \"text-align: left;\">male</td></tr><tr><td class = \"rowNumber\" style = \"font-weight: bold; text-align: right;\">145</td><td style = \"text-align: left;\">Adelie</td><td style = \"text-align: left;\">Dream</td><td style = \"text-align: right;\">37.3</td><td style = \"text-align: right;\">16.8</td><td style = \"text-align: right;\">192</td><td style = \"text-align: right;\">3000</td><td style = \"text-align: left;\">female</td></tr><tr><td class = \"rowNumber\" style = \"font-weight: bold; text-align: right;\">146</td><td style = \"text-align: left;\">Adelie</td><td style = \"text-align: left;\">Dream</td><td style = \"text-align: right;\">39.0</td><td style = \"text-align: right;\">18.7</td><td style = \"text-align: right;\">185</td><td style = \"text-align: right;\">3650</td><td style = \"text-align: left;\">male</td></tr><tr><td class = \"rowNumber\" style = \"font-weight: bold; text-align: right;\">147</td><td style = \"text-align: left;\">Adelie</td><td style = \"text-align: left;\">Dream</td><td style = \"text-align: right;\">39.2</td><td style = \"text-align: right;\">18.6</td><td style = \"text-align: right;\">190</td><td style = \"text-align: right;\">4250</td><td style = \"text-align: left;\">male</td></tr><tr><td class = \"rowNumber\" style = \"font-weight: bold; text-align: right;\">148</td><td style = \"text-align: left;\">Adelie</td><td style = \"text-align: left;\">Dream</td><td style = \"text-align: right;\">36.6</td><td style = \"text-align: right;\">18.4</td><td style = \"text-align: right;\">184</td><td style = \"text-align: right;\">3475</td><td style = \"text-align: left;\">female</td></tr><tr><td class = \"rowNumber\" style = \"font-weight: bold; text-align: right;\">149</td><td style = \"text-align: left;\">Adelie</td><td style = \"text-align: left;\">Dream</td><td style = \"text-align: right;\">36.0</td><td style = \"text-align: right;\">17.8</td><td style = \"text-align: right;\">195</td><td style = \"text-align: right;\">3450</td><td style = \"text-align: left;\">female</td></tr><tr><td class = \"rowNumber\" style = \"font-weight: bold; text-align: right;\">150</td><td style = \"text-align: left;\">Adelie</td><td style = \"text-align: left;\">Dream</td><td style = \"text-align: right;\">37.8</td><td style = \"text-align: right;\">18.1</td><td style = \"text-align: right;\">193</td><td style = \"text-align: right;\">3750</td><td style = \"text-align: left;\">male</td></tr><tr><td class = \"rowNumber\" style = \"font-weight: bold; text-align: right;\">151</td><td style = \"text-align: left;\">Adelie</td><td style = \"text-align: left;\">Dream</td><td style = \"text-align: right;\">36.0</td><td style = \"text-align: right;\">17.1</td><td style = \"text-align: right;\">187</td><td style = \"text-align: right;\">3700</td><td style = \"text-align: left;\">female</td></tr><tr><td class = \"rowNumber\" style = \"font-weight: bold; text-align: right;\">152</td><td style = \"text-align: left;\">Adelie</td><td style = \"text-align: left;\">Dream</td><td style = \"text-align: right;\">41.5</td><td style = \"text-align: right;\">18.5</td><td style = \"text-align: right;\">201</td><td style = \"text-align: right;\">4000</td><td style = \"text-align: left;\">male</td></tr></tbody></table></div>"
      ],
      "text/latex": [
       "\\begin{tabular}{r|ccccccc}\n",
       "\t& species & island & bill\\_length\\_mm & bill\\_depth\\_mm & flipper\\_length\\_mm & body\\_mass\\_g & \\\\\n",
       "\t\\hline\n",
       "\t& String15 & String15 & Float64? & Float64? & Int64? & Int64? & \\\\\n",
       "\t\\hline\n",
       "\t1 & Adelie & Torgersen & 39.1 & 18.7 & 181 & 3750 & $\\dots$ \\\\\n",
       "\t2 & Adelie & Torgersen & 39.5 & 17.4 & 186 & 3800 & $\\dots$ \\\\\n",
       "\t3 & Adelie & Torgersen & 40.3 & 18.0 & 195 & 3250 & $\\dots$ \\\\\n",
       "\t4 & Adelie & Torgersen & \\emph{missing} & \\emph{missing} & \\emph{missing} & \\emph{missing} & $\\dots$ \\\\\n",
       "\t5 & Adelie & Torgersen & 36.7 & 19.3 & 193 & 3450 & $\\dots$ \\\\\n",
       "\t6 & Adelie & Torgersen & 39.3 & 20.6 & 190 & 3650 & $\\dots$ \\\\\n",
       "\t7 & Adelie & Torgersen & 38.9 & 17.8 & 181 & 3625 & $\\dots$ \\\\\n",
       "\t8 & Adelie & Torgersen & 39.2 & 19.6 & 195 & 4675 & $\\dots$ \\\\\n",
       "\t9 & Adelie & Torgersen & 34.1 & 18.1 & 193 & 3475 & $\\dots$ \\\\\n",
       "\t10 & Adelie & Torgersen & 42.0 & 20.2 & 190 & 4250 & $\\dots$ \\\\\n",
       "\t11 & Adelie & Torgersen & 37.8 & 17.1 & 186 & 3300 & $\\dots$ \\\\\n",
       "\t12 & Adelie & Torgersen & 37.8 & 17.3 & 180 & 3700 & $\\dots$ \\\\\n",
       "\t13 & Adelie & Torgersen & 41.1 & 17.6 & 182 & 3200 & $\\dots$ \\\\\n",
       "\t14 & Adelie & Torgersen & 38.6 & 21.2 & 191 & 3800 & $\\dots$ \\\\\n",
       "\t15 & Adelie & Torgersen & 34.6 & 21.1 & 198 & 4400 & $\\dots$ \\\\\n",
       "\t16 & Adelie & Torgersen & 36.6 & 17.8 & 185 & 3700 & $\\dots$ \\\\\n",
       "\t17 & Adelie & Torgersen & 38.7 & 19.0 & 195 & 3450 & $\\dots$ \\\\\n",
       "\t18 & Adelie & Torgersen & 42.5 & 20.7 & 197 & 4500 & $\\dots$ \\\\\n",
       "\t19 & Adelie & Torgersen & 34.4 & 18.4 & 184 & 3325 & $\\dots$ \\\\\n",
       "\t20 & Adelie & Torgersen & 46.0 & 21.5 & 194 & 4200 & $\\dots$ \\\\\n",
       "\t21 & Adelie & Biscoe & 37.8 & 18.3 & 174 & 3400 & $\\dots$ \\\\\n",
       "\t22 & Adelie & Biscoe & 37.7 & 18.7 & 180 & 3600 & $\\dots$ \\\\\n",
       "\t23 & Adelie & Biscoe & 35.9 & 19.2 & 189 & 3800 & $\\dots$ \\\\\n",
       "\t24 & Adelie & Biscoe & 38.2 & 18.1 & 185 & 3950 & $\\dots$ \\\\\n",
       "\t25 & Adelie & Biscoe & 38.8 & 17.2 & 180 & 3800 & $\\dots$ \\\\\n",
       "\t26 & Adelie & Biscoe & 35.3 & 18.9 & 187 & 3800 & $\\dots$ \\\\\n",
       "\t27 & Adelie & Biscoe & 40.6 & 18.6 & 183 & 3550 & $\\dots$ \\\\\n",
       "\t28 & Adelie & Biscoe & 40.5 & 17.9 & 187 & 3200 & $\\dots$ \\\\\n",
       "\t29 & Adelie & Biscoe & 37.9 & 18.6 & 172 & 3150 & $\\dots$ \\\\\n",
       "\t30 & Adelie & Biscoe & 40.5 & 18.9 & 180 & 3950 & $\\dots$ \\\\\n",
       "\t$\\dots$ & $\\dots$ & $\\dots$ & $\\dots$ & $\\dots$ & $\\dots$ & $\\dots$ &  \\\\\n",
       "\\end{tabular}\n"
      ],
      "text/plain": [
       "\u001b[1m152×7 DataFrame\u001b[0m\n",
       "\u001b[1m Row \u001b[0m│\u001b[1m species  \u001b[0m\u001b[1m island    \u001b[0m\u001b[1m bill_length_mm \u001b[0m\u001b[1m bill_depth_mm \u001b[0m\u001b[1m flipper_length_mm \u001b[0m\u001b[1m \u001b[0m ⋯\n",
       "     │\u001b[90m String15 \u001b[0m\u001b[90m String15  \u001b[0m\u001b[90m Float64?       \u001b[0m\u001b[90m Float64?      \u001b[0m\u001b[90m Int64?            \u001b[0m\u001b[90m \u001b[0m ⋯\n",
       "─────┼──────────────────────────────────────────────────────────────────────────\n",
       "   1 │ Adelie    Torgersen            39.1           18.7                181   ⋯\n",
       "   2 │ Adelie    Torgersen            39.5           17.4                186\n",
       "   3 │ Adelie    Torgersen            40.3           18.0                195\n",
       "   4 │ Adelie    Torgersen \u001b[90m      missing   \u001b[0m\u001b[90m     missing   \u001b[0m\u001b[90m           missing \u001b[0m\u001b[90m \u001b[0m\n",
       "   5 │ Adelie    Torgersen            36.7           19.3                193   ⋯\n",
       "   6 │ Adelie    Torgersen            39.3           20.6                190\n",
       "   7 │ Adelie    Torgersen            38.9           17.8                181\n",
       "   8 │ Adelie    Torgersen            39.2           19.6                195\n",
       "   9 │ Adelie    Torgersen            34.1           18.1                193   ⋯\n",
       "  10 │ Adelie    Torgersen            42.0           20.2                190\n",
       "  11 │ Adelie    Torgersen            37.8           17.1                186\n",
       "  ⋮  │    ⋮          ⋮            ⋮               ⋮                ⋮           ⋱\n",
       " 143 │ Adelie    Dream                32.1           15.5                188\n",
       " 144 │ Adelie    Dream                40.7           17.0                190   ⋯\n",
       " 145 │ Adelie    Dream                37.3           16.8                192\n",
       " 146 │ Adelie    Dream                39.0           18.7                185\n",
       " 147 │ Adelie    Dream                39.2           18.6                190\n",
       " 148 │ Adelie    Dream                36.6           18.4                184   ⋯\n",
       " 149 │ Adelie    Dream                36.0           17.8                195\n",
       " 150 │ Adelie    Dream                37.8           18.1                193\n",
       " 151 │ Adelie    Dream                36.0           17.1                187\n",
       " 152 │ Adelie    Dream                41.5           18.5                201   ⋯\n",
       "\u001b[36m                                                  2 columns and 131 rows omitted\u001b[0m"
      ]
     },
     "execution_count": 3,
     "metadata": {},
     "output_type": "execute_result"
    }
   ],
   "source": [
    "@filter penguins species == \"Adelie\""
   ]
  },
  {
   "cell_type": "code",
   "execution_count": 4,
   "id": "b894a1ff",
   "metadata": {},
   "outputs": [
    {
     "data": {
      "text/html": [
       "<div><div style = \"float: left;\"><span>152×7 DataFrame</span></div><div style = \"float: right;\"><span style = \"font-style: italic;\">127 rows omitted</span></div><div style = \"clear: both;\"></div></div><div class = \"data-frame\" style = \"overflow-x: scroll;\"><table class = \"data-frame\" style = \"margin-bottom: 6px;\"><thead><tr class = \"header\"><th class = \"rowNumber\" style = \"font-weight: bold; text-align: right;\">Row</th><th style = \"text-align: left;\">species</th><th style = \"text-align: left;\">island</th><th style = \"text-align: left;\">bill_length_mm</th><th style = \"text-align: left;\">bill_depth_mm</th><th style = \"text-align: left;\">flipper_length_mm</th><th style = \"text-align: left;\">body_mass_g</th><th style = \"text-align: left;\">sex</th></tr><tr class = \"subheader headerLastRow\"><th class = \"rowNumber\" style = \"font-weight: bold; text-align: right;\"></th><th title = \"InlineStrings.String15\" style = \"text-align: left;\">String15</th><th title = \"InlineStrings.String15\" style = \"text-align: left;\">String15</th><th title = \"Union{Missing, Float64}\" style = \"text-align: left;\">Float64?</th><th title = \"Union{Missing, Float64}\" style = \"text-align: left;\">Float64?</th><th title = \"Union{Missing, Int64}\" style = \"text-align: left;\">Int64?</th><th title = \"Union{Missing, Int64}\" style = \"text-align: left;\">Int64?</th><th title = \"Union{Missing, InlineStrings.String7}\" style = \"text-align: left;\">String7</th></tr></thead><tbody><tr><td class = \"rowNumber\" style = \"font-weight: bold; text-align: right;\">1</td><td style = \"text-align: left;\">Adelie</td><td style = \"text-align: left;\">Torgersen</td><td style = \"text-align: right;\">39.1</td><td style = \"text-align: right;\">18.7</td><td style = \"text-align: right;\">181</td><td style = \"text-align: right;\">3750</td><td style = \"text-align: left;\">male</td></tr><tr><td class = \"rowNumber\" style = \"font-weight: bold; text-align: right;\">2</td><td style = \"text-align: left;\">Adelie</td><td style = \"text-align: left;\">Torgersen</td><td style = \"text-align: right;\">39.5</td><td style = \"text-align: right;\">17.4</td><td style = \"text-align: right;\">186</td><td style = \"text-align: right;\">3800</td><td style = \"text-align: left;\">female</td></tr><tr><td class = \"rowNumber\" style = \"font-weight: bold; text-align: right;\">3</td><td style = \"text-align: left;\">Adelie</td><td style = \"text-align: left;\">Torgersen</td><td style = \"text-align: right;\">40.3</td><td style = \"text-align: right;\">18.0</td><td style = \"text-align: right;\">195</td><td style = \"text-align: right;\">3250</td><td style = \"text-align: left;\">female</td></tr><tr><td class = \"rowNumber\" style = \"font-weight: bold; text-align: right;\">4</td><td style = \"text-align: left;\">Adelie</td><td style = \"text-align: left;\">Torgersen</td><td style = \"font-style: italic; text-align: right;\">missing</td><td style = \"font-style: italic; text-align: right;\">missing</td><td style = \"font-style: italic; text-align: right;\">missing</td><td style = \"font-style: italic; text-align: right;\">missing</td><td style = \"font-style: italic; text-align: left;\">missing</td></tr><tr><td class = \"rowNumber\" style = \"font-weight: bold; text-align: right;\">5</td><td style = \"text-align: left;\">Adelie</td><td style = \"text-align: left;\">Torgersen</td><td style = \"text-align: right;\">36.7</td><td style = \"text-align: right;\">19.3</td><td style = \"text-align: right;\">193</td><td style = \"text-align: right;\">3450</td><td style = \"text-align: left;\">female</td></tr><tr><td class = \"rowNumber\" style = \"font-weight: bold; text-align: right;\">6</td><td style = \"text-align: left;\">Adelie</td><td style = \"text-align: left;\">Torgersen</td><td style = \"text-align: right;\">39.3</td><td style = \"text-align: right;\">20.6</td><td style = \"text-align: right;\">190</td><td style = \"text-align: right;\">3650</td><td style = \"text-align: left;\">male</td></tr><tr><td class = \"rowNumber\" style = \"font-weight: bold; text-align: right;\">7</td><td style = \"text-align: left;\">Adelie</td><td style = \"text-align: left;\">Torgersen</td><td style = \"text-align: right;\">38.9</td><td style = \"text-align: right;\">17.8</td><td style = \"text-align: right;\">181</td><td style = \"text-align: right;\">3625</td><td style = \"text-align: left;\">female</td></tr><tr><td class = \"rowNumber\" style = \"font-weight: bold; text-align: right;\">8</td><td style = \"text-align: left;\">Adelie</td><td style = \"text-align: left;\">Torgersen</td><td style = \"text-align: right;\">39.2</td><td style = \"text-align: right;\">19.6</td><td style = \"text-align: right;\">195</td><td style = \"text-align: right;\">4675</td><td style = \"text-align: left;\">male</td></tr><tr><td class = \"rowNumber\" style = \"font-weight: bold; text-align: right;\">9</td><td style = \"text-align: left;\">Adelie</td><td style = \"text-align: left;\">Torgersen</td><td style = \"text-align: right;\">34.1</td><td style = \"text-align: right;\">18.1</td><td style = \"text-align: right;\">193</td><td style = \"text-align: right;\">3475</td><td style = \"font-style: italic; text-align: left;\">missing</td></tr><tr><td class = \"rowNumber\" style = \"font-weight: bold; text-align: right;\">10</td><td style = \"text-align: left;\">Adelie</td><td style = \"text-align: left;\">Torgersen</td><td style = \"text-align: right;\">42.0</td><td style = \"text-align: right;\">20.2</td><td style = \"text-align: right;\">190</td><td style = \"text-align: right;\">4250</td><td style = \"font-style: italic; text-align: left;\">missing</td></tr><tr><td class = \"rowNumber\" style = \"font-weight: bold; text-align: right;\">11</td><td style = \"text-align: left;\">Adelie</td><td style = \"text-align: left;\">Torgersen</td><td style = \"text-align: right;\">37.8</td><td style = \"text-align: right;\">17.1</td><td style = \"text-align: right;\">186</td><td style = \"text-align: right;\">3300</td><td style = \"font-style: italic; text-align: left;\">missing</td></tr><tr><td class = \"rowNumber\" style = \"font-weight: bold; text-align: right;\">12</td><td style = \"text-align: left;\">Adelie</td><td style = \"text-align: left;\">Torgersen</td><td style = \"text-align: right;\">37.8</td><td style = \"text-align: right;\">17.3</td><td style = \"text-align: right;\">180</td><td style = \"text-align: right;\">3700</td><td style = \"font-style: italic; text-align: left;\">missing</td></tr><tr><td class = \"rowNumber\" style = \"font-weight: bold; text-align: right;\">13</td><td style = \"text-align: left;\">Adelie</td><td style = \"text-align: left;\">Torgersen</td><td style = \"text-align: right;\">41.1</td><td style = \"text-align: right;\">17.6</td><td style = \"text-align: right;\">182</td><td style = \"text-align: right;\">3200</td><td style = \"text-align: left;\">female</td></tr><tr><td style = \"text-align: right;\">&vellip;</td><td style = \"text-align: right;\">&vellip;</td><td style = \"text-align: right;\">&vellip;</td><td style = \"text-align: right;\">&vellip;</td><td style = \"text-align: right;\">&vellip;</td><td style = \"text-align: right;\">&vellip;</td><td style = \"text-align: right;\">&vellip;</td><td style = \"text-align: right;\">&vellip;</td></tr><tr><td class = \"rowNumber\" style = \"font-weight: bold; text-align: right;\">141</td><td style = \"text-align: left;\">Adelie</td><td style = \"text-align: left;\">Dream</td><td style = \"text-align: right;\">40.2</td><td style = \"text-align: right;\">17.1</td><td style = \"text-align: right;\">193</td><td style = \"text-align: right;\">3400</td><td style = \"text-align: left;\">female</td></tr><tr><td class = \"rowNumber\" style = \"font-weight: bold; text-align: right;\">142</td><td style = \"text-align: left;\">Adelie</td><td style = \"text-align: left;\">Dream</td><td style = \"text-align: right;\">40.6</td><td style = \"text-align: right;\">17.2</td><td style = \"text-align: right;\">187</td><td style = \"text-align: right;\">3475</td><td style = \"text-align: left;\">male</td></tr><tr><td class = \"rowNumber\" style = \"font-weight: bold; text-align: right;\">143</td><td style = \"text-align: left;\">Adelie</td><td style = \"text-align: left;\">Dream</td><td style = \"text-align: right;\">32.1</td><td style = \"text-align: right;\">15.5</td><td style = \"text-align: right;\">188</td><td style = \"text-align: right;\">3050</td><td style = \"text-align: left;\">female</td></tr><tr><td class = \"rowNumber\" style = \"font-weight: bold; text-align: right;\">144</td><td style = \"text-align: left;\">Adelie</td><td style = \"text-align: left;\">Dream</td><td style = \"text-align: right;\">40.7</td><td style = \"text-align: right;\">17.0</td><td style = \"text-align: right;\">190</td><td style = \"text-align: right;\">3725</td><td style = \"text-align: left;\">male</td></tr><tr><td class = \"rowNumber\" style = \"font-weight: bold; text-align: right;\">145</td><td style = \"text-align: left;\">Adelie</td><td style = \"text-align: left;\">Dream</td><td style = \"text-align: right;\">37.3</td><td style = \"text-align: right;\">16.8</td><td style = \"text-align: right;\">192</td><td style = \"text-align: right;\">3000</td><td style = \"text-align: left;\">female</td></tr><tr><td class = \"rowNumber\" style = \"font-weight: bold; text-align: right;\">146</td><td style = \"text-align: left;\">Adelie</td><td style = \"text-align: left;\">Dream</td><td style = \"text-align: right;\">39.0</td><td style = \"text-align: right;\">18.7</td><td style = \"text-align: right;\">185</td><td style = \"text-align: right;\">3650</td><td style = \"text-align: left;\">male</td></tr><tr><td class = \"rowNumber\" style = \"font-weight: bold; text-align: right;\">147</td><td style = \"text-align: left;\">Adelie</td><td style = \"text-align: left;\">Dream</td><td style = \"text-align: right;\">39.2</td><td style = \"text-align: right;\">18.6</td><td style = \"text-align: right;\">190</td><td style = \"text-align: right;\">4250</td><td style = \"text-align: left;\">male</td></tr><tr><td class = \"rowNumber\" style = \"font-weight: bold; text-align: right;\">148</td><td style = \"text-align: left;\">Adelie</td><td style = \"text-align: left;\">Dream</td><td style = \"text-align: right;\">36.6</td><td style = \"text-align: right;\">18.4</td><td style = \"text-align: right;\">184</td><td style = \"text-align: right;\">3475</td><td style = \"text-align: left;\">female</td></tr><tr><td class = \"rowNumber\" style = \"font-weight: bold; text-align: right;\">149</td><td style = \"text-align: left;\">Adelie</td><td style = \"text-align: left;\">Dream</td><td style = \"text-align: right;\">36.0</td><td style = \"text-align: right;\">17.8</td><td style = \"text-align: right;\">195</td><td style = \"text-align: right;\">3450</td><td style = \"text-align: left;\">female</td></tr><tr><td class = \"rowNumber\" style = \"font-weight: bold; text-align: right;\">150</td><td style = \"text-align: left;\">Adelie</td><td style = \"text-align: left;\">Dream</td><td style = \"text-align: right;\">37.8</td><td style = \"text-align: right;\">18.1</td><td style = \"text-align: right;\">193</td><td style = \"text-align: right;\">3750</td><td style = \"text-align: left;\">male</td></tr><tr><td class = \"rowNumber\" style = \"font-weight: bold; text-align: right;\">151</td><td style = \"text-align: left;\">Adelie</td><td style = \"text-align: left;\">Dream</td><td style = \"text-align: right;\">36.0</td><td style = \"text-align: right;\">17.1</td><td style = \"text-align: right;\">187</td><td style = \"text-align: right;\">3700</td><td style = \"text-align: left;\">female</td></tr><tr><td class = \"rowNumber\" style = \"font-weight: bold; text-align: right;\">152</td><td style = \"text-align: left;\">Adelie</td><td style = \"text-align: left;\">Dream</td><td style = \"text-align: right;\">41.5</td><td style = \"text-align: right;\">18.5</td><td style = \"text-align: right;\">201</td><td style = \"text-align: right;\">4000</td><td style = \"text-align: left;\">male</td></tr></tbody></table></div>"
      ],
      "text/latex": [
       "\\begin{tabular}{r|ccccccc}\n",
       "\t& species & island & bill\\_length\\_mm & bill\\_depth\\_mm & flipper\\_length\\_mm & body\\_mass\\_g & \\\\\n",
       "\t\\hline\n",
       "\t& String15 & String15 & Float64? & Float64? & Int64? & Int64? & \\\\\n",
       "\t\\hline\n",
       "\t1 & Adelie & Torgersen & 39.1 & 18.7 & 181 & 3750 & $\\dots$ \\\\\n",
       "\t2 & Adelie & Torgersen & 39.5 & 17.4 & 186 & 3800 & $\\dots$ \\\\\n",
       "\t3 & Adelie & Torgersen & 40.3 & 18.0 & 195 & 3250 & $\\dots$ \\\\\n",
       "\t4 & Adelie & Torgersen & \\emph{missing} & \\emph{missing} & \\emph{missing} & \\emph{missing} & $\\dots$ \\\\\n",
       "\t5 & Adelie & Torgersen & 36.7 & 19.3 & 193 & 3450 & $\\dots$ \\\\\n",
       "\t6 & Adelie & Torgersen & 39.3 & 20.6 & 190 & 3650 & $\\dots$ \\\\\n",
       "\t7 & Adelie & Torgersen & 38.9 & 17.8 & 181 & 3625 & $\\dots$ \\\\\n",
       "\t8 & Adelie & Torgersen & 39.2 & 19.6 & 195 & 4675 & $\\dots$ \\\\\n",
       "\t9 & Adelie & Torgersen & 34.1 & 18.1 & 193 & 3475 & $\\dots$ \\\\\n",
       "\t10 & Adelie & Torgersen & 42.0 & 20.2 & 190 & 4250 & $\\dots$ \\\\\n",
       "\t11 & Adelie & Torgersen & 37.8 & 17.1 & 186 & 3300 & $\\dots$ \\\\\n",
       "\t12 & Adelie & Torgersen & 37.8 & 17.3 & 180 & 3700 & $\\dots$ \\\\\n",
       "\t13 & Adelie & Torgersen & 41.1 & 17.6 & 182 & 3200 & $\\dots$ \\\\\n",
       "\t14 & Adelie & Torgersen & 38.6 & 21.2 & 191 & 3800 & $\\dots$ \\\\\n",
       "\t15 & Adelie & Torgersen & 34.6 & 21.1 & 198 & 4400 & $\\dots$ \\\\\n",
       "\t16 & Adelie & Torgersen & 36.6 & 17.8 & 185 & 3700 & $\\dots$ \\\\\n",
       "\t17 & Adelie & Torgersen & 38.7 & 19.0 & 195 & 3450 & $\\dots$ \\\\\n",
       "\t18 & Adelie & Torgersen & 42.5 & 20.7 & 197 & 4500 & $\\dots$ \\\\\n",
       "\t19 & Adelie & Torgersen & 34.4 & 18.4 & 184 & 3325 & $\\dots$ \\\\\n",
       "\t20 & Adelie & Torgersen & 46.0 & 21.5 & 194 & 4200 & $\\dots$ \\\\\n",
       "\t21 & Adelie & Biscoe & 37.8 & 18.3 & 174 & 3400 & $\\dots$ \\\\\n",
       "\t22 & Adelie & Biscoe & 37.7 & 18.7 & 180 & 3600 & $\\dots$ \\\\\n",
       "\t23 & Adelie & Biscoe & 35.9 & 19.2 & 189 & 3800 & $\\dots$ \\\\\n",
       "\t24 & Adelie & Biscoe & 38.2 & 18.1 & 185 & 3950 & $\\dots$ \\\\\n",
       "\t25 & Adelie & Biscoe & 38.8 & 17.2 & 180 & 3800 & $\\dots$ \\\\\n",
       "\t26 & Adelie & Biscoe & 35.3 & 18.9 & 187 & 3800 & $\\dots$ \\\\\n",
       "\t27 & Adelie & Biscoe & 40.6 & 18.6 & 183 & 3550 & $\\dots$ \\\\\n",
       "\t28 & Adelie & Biscoe & 40.5 & 17.9 & 187 & 3200 & $\\dots$ \\\\\n",
       "\t29 & Adelie & Biscoe & 37.9 & 18.6 & 172 & 3150 & $\\dots$ \\\\\n",
       "\t30 & Adelie & Biscoe & 40.5 & 18.9 & 180 & 3950 & $\\dots$ \\\\\n",
       "\t$\\dots$ & $\\dots$ & $\\dots$ & $\\dots$ & $\\dots$ & $\\dots$ & $\\dots$ &  \\\\\n",
       "\\end{tabular}\n"
      ],
      "text/plain": [
       "\u001b[1m152×7 DataFrame\u001b[0m\n",
       "\u001b[1m Row \u001b[0m│\u001b[1m species  \u001b[0m\u001b[1m island    \u001b[0m\u001b[1m bill_length_mm \u001b[0m\u001b[1m bill_depth_mm \u001b[0m\u001b[1m flipper_length_mm \u001b[0m\u001b[1m \u001b[0m ⋯\n",
       "     │\u001b[90m String15 \u001b[0m\u001b[90m String15  \u001b[0m\u001b[90m Float64?       \u001b[0m\u001b[90m Float64?      \u001b[0m\u001b[90m Int64?            \u001b[0m\u001b[90m \u001b[0m ⋯\n",
       "─────┼──────────────────────────────────────────────────────────────────────────\n",
       "   1 │ Adelie    Torgersen            39.1           18.7                181   ⋯\n",
       "   2 │ Adelie    Torgersen            39.5           17.4                186\n",
       "   3 │ Adelie    Torgersen            40.3           18.0                195\n",
       "   4 │ Adelie    Torgersen \u001b[90m      missing   \u001b[0m\u001b[90m     missing   \u001b[0m\u001b[90m           missing \u001b[0m\u001b[90m \u001b[0m\n",
       "   5 │ Adelie    Torgersen            36.7           19.3                193   ⋯\n",
       "   6 │ Adelie    Torgersen            39.3           20.6                190\n",
       "   7 │ Adelie    Torgersen            38.9           17.8                181\n",
       "   8 │ Adelie    Torgersen            39.2           19.6                195\n",
       "   9 │ Adelie    Torgersen            34.1           18.1                193   ⋯\n",
       "  10 │ Adelie    Torgersen            42.0           20.2                190\n",
       "  11 │ Adelie    Torgersen            37.8           17.1                186\n",
       "  ⋮  │    ⋮          ⋮            ⋮               ⋮                ⋮           ⋱\n",
       " 143 │ Adelie    Dream                32.1           15.5                188\n",
       " 144 │ Adelie    Dream                40.7           17.0                190   ⋯\n",
       " 145 │ Adelie    Dream                37.3           16.8                192\n",
       " 146 │ Adelie    Dream                39.0           18.7                185\n",
       " 147 │ Adelie    Dream                39.2           18.6                190\n",
       " 148 │ Adelie    Dream                36.6           18.4                184   ⋯\n",
       " 149 │ Adelie    Dream                36.0           17.8                195\n",
       " 150 │ Adelie    Dream                37.8           18.1                193\n",
       " 151 │ Adelie    Dream                36.0           17.1                187\n",
       " 152 │ Adelie    Dream                41.5           18.5                201   ⋯\n",
       "\u001b[36m                                                  2 columns and 131 rows omitted\u001b[0m"
      ]
     },
     "execution_count": 4,
     "metadata": {},
     "output_type": "execute_result"
    }
   ],
   "source": [
    "@rsubset penguins :species == \"Adelie\""
   ]
  },
  {
   "cell_type": "code",
   "execution_count": 5,
   "id": "a352df89",
   "metadata": {},
   "outputs": [
    {
     "data": {
      "text/html": [
       "<div><div style = \"float: left;\"><span>152×7 DataFrame</span></div><div style = \"float: right;\"><span style = \"font-style: italic;\">127 rows omitted</span></div><div style = \"clear: both;\"></div></div><div class = \"data-frame\" style = \"overflow-x: scroll;\"><table class = \"data-frame\" style = \"margin-bottom: 6px;\"><thead><tr class = \"header\"><th class = \"rowNumber\" style = \"font-weight: bold; text-align: right;\">Row</th><th style = \"text-align: left;\">species</th><th style = \"text-align: left;\">island</th><th style = \"text-align: left;\">bill_length_mm</th><th style = \"text-align: left;\">bill_depth_mm</th><th style = \"text-align: left;\">flipper_length_mm</th><th style = \"text-align: left;\">body_mass_g</th><th style = \"text-align: left;\">sex</th></tr><tr class = \"subheader headerLastRow\"><th class = \"rowNumber\" style = \"font-weight: bold; text-align: right;\"></th><th title = \"InlineStrings.String15\" style = \"text-align: left;\">String15</th><th title = \"InlineStrings.String15\" style = \"text-align: left;\">String15</th><th title = \"Union{Missing, Float64}\" style = \"text-align: left;\">Float64?</th><th title = \"Union{Missing, Float64}\" style = \"text-align: left;\">Float64?</th><th title = \"Union{Missing, Int64}\" style = \"text-align: left;\">Int64?</th><th title = \"Union{Missing, Int64}\" style = \"text-align: left;\">Int64?</th><th title = \"Union{Missing, InlineStrings.String7}\" style = \"text-align: left;\">String7</th></tr></thead><tbody><tr><td class = \"rowNumber\" style = \"font-weight: bold; text-align: right;\">1</td><td style = \"text-align: left;\">Adelie</td><td style = \"text-align: left;\">Torgersen</td><td style = \"text-align: right;\">39.1</td><td style = \"text-align: right;\">18.7</td><td style = \"text-align: right;\">181</td><td style = \"text-align: right;\">3750</td><td style = \"text-align: left;\">male</td></tr><tr><td class = \"rowNumber\" style = \"font-weight: bold; text-align: right;\">2</td><td style = \"text-align: left;\">Adelie</td><td style = \"text-align: left;\">Torgersen</td><td style = \"text-align: right;\">39.5</td><td style = \"text-align: right;\">17.4</td><td style = \"text-align: right;\">186</td><td style = \"text-align: right;\">3800</td><td style = \"text-align: left;\">female</td></tr><tr><td class = \"rowNumber\" style = \"font-weight: bold; text-align: right;\">3</td><td style = \"text-align: left;\">Adelie</td><td style = \"text-align: left;\">Torgersen</td><td style = \"text-align: right;\">40.3</td><td style = \"text-align: right;\">18.0</td><td style = \"text-align: right;\">195</td><td style = \"text-align: right;\">3250</td><td style = \"text-align: left;\">female</td></tr><tr><td class = \"rowNumber\" style = \"font-weight: bold; text-align: right;\">4</td><td style = \"text-align: left;\">Adelie</td><td style = \"text-align: left;\">Torgersen</td><td style = \"font-style: italic; text-align: right;\">missing</td><td style = \"font-style: italic; text-align: right;\">missing</td><td style = \"font-style: italic; text-align: right;\">missing</td><td style = \"font-style: italic; text-align: right;\">missing</td><td style = \"font-style: italic; text-align: left;\">missing</td></tr><tr><td class = \"rowNumber\" style = \"font-weight: bold; text-align: right;\">5</td><td style = \"text-align: left;\">Adelie</td><td style = \"text-align: left;\">Torgersen</td><td style = \"text-align: right;\">36.7</td><td style = \"text-align: right;\">19.3</td><td style = \"text-align: right;\">193</td><td style = \"text-align: right;\">3450</td><td style = \"text-align: left;\">female</td></tr><tr><td class = \"rowNumber\" style = \"font-weight: bold; text-align: right;\">6</td><td style = \"text-align: left;\">Adelie</td><td style = \"text-align: left;\">Torgersen</td><td style = \"text-align: right;\">39.3</td><td style = \"text-align: right;\">20.6</td><td style = \"text-align: right;\">190</td><td style = \"text-align: right;\">3650</td><td style = \"text-align: left;\">male</td></tr><tr><td class = \"rowNumber\" style = \"font-weight: bold; text-align: right;\">7</td><td style = \"text-align: left;\">Adelie</td><td style = \"text-align: left;\">Torgersen</td><td style = \"text-align: right;\">38.9</td><td style = \"text-align: right;\">17.8</td><td style = \"text-align: right;\">181</td><td style = \"text-align: right;\">3625</td><td style = \"text-align: left;\">female</td></tr><tr><td class = \"rowNumber\" style = \"font-weight: bold; text-align: right;\">8</td><td style = \"text-align: left;\">Adelie</td><td style = \"text-align: left;\">Torgersen</td><td style = \"text-align: right;\">39.2</td><td style = \"text-align: right;\">19.6</td><td style = \"text-align: right;\">195</td><td style = \"text-align: right;\">4675</td><td style = \"text-align: left;\">male</td></tr><tr><td class = \"rowNumber\" style = \"font-weight: bold; text-align: right;\">9</td><td style = \"text-align: left;\">Adelie</td><td style = \"text-align: left;\">Torgersen</td><td style = \"text-align: right;\">34.1</td><td style = \"text-align: right;\">18.1</td><td style = \"text-align: right;\">193</td><td style = \"text-align: right;\">3475</td><td style = \"font-style: italic; text-align: left;\">missing</td></tr><tr><td class = \"rowNumber\" style = \"font-weight: bold; text-align: right;\">10</td><td style = \"text-align: left;\">Adelie</td><td style = \"text-align: left;\">Torgersen</td><td style = \"text-align: right;\">42.0</td><td style = \"text-align: right;\">20.2</td><td style = \"text-align: right;\">190</td><td style = \"text-align: right;\">4250</td><td style = \"font-style: italic; text-align: left;\">missing</td></tr><tr><td class = \"rowNumber\" style = \"font-weight: bold; text-align: right;\">11</td><td style = \"text-align: left;\">Adelie</td><td style = \"text-align: left;\">Torgersen</td><td style = \"text-align: right;\">37.8</td><td style = \"text-align: right;\">17.1</td><td style = \"text-align: right;\">186</td><td style = \"text-align: right;\">3300</td><td style = \"font-style: italic; text-align: left;\">missing</td></tr><tr><td class = \"rowNumber\" style = \"font-weight: bold; text-align: right;\">12</td><td style = \"text-align: left;\">Adelie</td><td style = \"text-align: left;\">Torgersen</td><td style = \"text-align: right;\">37.8</td><td style = \"text-align: right;\">17.3</td><td style = \"text-align: right;\">180</td><td style = \"text-align: right;\">3700</td><td style = \"font-style: italic; text-align: left;\">missing</td></tr><tr><td class = \"rowNumber\" style = \"font-weight: bold; text-align: right;\">13</td><td style = \"text-align: left;\">Adelie</td><td style = \"text-align: left;\">Torgersen</td><td style = \"text-align: right;\">41.1</td><td style = \"text-align: right;\">17.6</td><td style = \"text-align: right;\">182</td><td style = \"text-align: right;\">3200</td><td style = \"text-align: left;\">female</td></tr><tr><td style = \"text-align: right;\">&vellip;</td><td style = \"text-align: right;\">&vellip;</td><td style = \"text-align: right;\">&vellip;</td><td style = \"text-align: right;\">&vellip;</td><td style = \"text-align: right;\">&vellip;</td><td style = \"text-align: right;\">&vellip;</td><td style = \"text-align: right;\">&vellip;</td><td style = \"text-align: right;\">&vellip;</td></tr><tr><td class = \"rowNumber\" style = \"font-weight: bold; text-align: right;\">141</td><td style = \"text-align: left;\">Adelie</td><td style = \"text-align: left;\">Dream</td><td style = \"text-align: right;\">40.2</td><td style = \"text-align: right;\">17.1</td><td style = \"text-align: right;\">193</td><td style = \"text-align: right;\">3400</td><td style = \"text-align: left;\">female</td></tr><tr><td class = \"rowNumber\" style = \"font-weight: bold; text-align: right;\">142</td><td style = \"text-align: left;\">Adelie</td><td style = \"text-align: left;\">Dream</td><td style = \"text-align: right;\">40.6</td><td style = \"text-align: right;\">17.2</td><td style = \"text-align: right;\">187</td><td style = \"text-align: right;\">3475</td><td style = \"text-align: left;\">male</td></tr><tr><td class = \"rowNumber\" style = \"font-weight: bold; text-align: right;\">143</td><td style = \"text-align: left;\">Adelie</td><td style = \"text-align: left;\">Dream</td><td style = \"text-align: right;\">32.1</td><td style = \"text-align: right;\">15.5</td><td style = \"text-align: right;\">188</td><td style = \"text-align: right;\">3050</td><td style = \"text-align: left;\">female</td></tr><tr><td class = \"rowNumber\" style = \"font-weight: bold; text-align: right;\">144</td><td style = \"text-align: left;\">Adelie</td><td style = \"text-align: left;\">Dream</td><td style = \"text-align: right;\">40.7</td><td style = \"text-align: right;\">17.0</td><td style = \"text-align: right;\">190</td><td style = \"text-align: right;\">3725</td><td style = \"text-align: left;\">male</td></tr><tr><td class = \"rowNumber\" style = \"font-weight: bold; text-align: right;\">145</td><td style = \"text-align: left;\">Adelie</td><td style = \"text-align: left;\">Dream</td><td style = \"text-align: right;\">37.3</td><td style = \"text-align: right;\">16.8</td><td style = \"text-align: right;\">192</td><td style = \"text-align: right;\">3000</td><td style = \"text-align: left;\">female</td></tr><tr><td class = \"rowNumber\" style = \"font-weight: bold; text-align: right;\">146</td><td style = \"text-align: left;\">Adelie</td><td style = \"text-align: left;\">Dream</td><td style = \"text-align: right;\">39.0</td><td style = \"text-align: right;\">18.7</td><td style = \"text-align: right;\">185</td><td style = \"text-align: right;\">3650</td><td style = \"text-align: left;\">male</td></tr><tr><td class = \"rowNumber\" style = \"font-weight: bold; text-align: right;\">147</td><td style = \"text-align: left;\">Adelie</td><td style = \"text-align: left;\">Dream</td><td style = \"text-align: right;\">39.2</td><td style = \"text-align: right;\">18.6</td><td style = \"text-align: right;\">190</td><td style = \"text-align: right;\">4250</td><td style = \"text-align: left;\">male</td></tr><tr><td class = \"rowNumber\" style = \"font-weight: bold; text-align: right;\">148</td><td style = \"text-align: left;\">Adelie</td><td style = \"text-align: left;\">Dream</td><td style = \"text-align: right;\">36.6</td><td style = \"text-align: right;\">18.4</td><td style = \"text-align: right;\">184</td><td style = \"text-align: right;\">3475</td><td style = \"text-align: left;\">female</td></tr><tr><td class = \"rowNumber\" style = \"font-weight: bold; text-align: right;\">149</td><td style = \"text-align: left;\">Adelie</td><td style = \"text-align: left;\">Dream</td><td style = \"text-align: right;\">36.0</td><td style = \"text-align: right;\">17.8</td><td style = \"text-align: right;\">195</td><td style = \"text-align: right;\">3450</td><td style = \"text-align: left;\">female</td></tr><tr><td class = \"rowNumber\" style = \"font-weight: bold; text-align: right;\">150</td><td style = \"text-align: left;\">Adelie</td><td style = \"text-align: left;\">Dream</td><td style = \"text-align: right;\">37.8</td><td style = \"text-align: right;\">18.1</td><td style = \"text-align: right;\">193</td><td style = \"text-align: right;\">3750</td><td style = \"text-align: left;\">male</td></tr><tr><td class = \"rowNumber\" style = \"font-weight: bold; text-align: right;\">151</td><td style = \"text-align: left;\">Adelie</td><td style = \"text-align: left;\">Dream</td><td style = \"text-align: right;\">36.0</td><td style = \"text-align: right;\">17.1</td><td style = \"text-align: right;\">187</td><td style = \"text-align: right;\">3700</td><td style = \"text-align: left;\">female</td></tr><tr><td class = \"rowNumber\" style = \"font-weight: bold; text-align: right;\">152</td><td style = \"text-align: left;\">Adelie</td><td style = \"text-align: left;\">Dream</td><td style = \"text-align: right;\">41.5</td><td style = \"text-align: right;\">18.5</td><td style = \"text-align: right;\">201</td><td style = \"text-align: right;\">4000</td><td style = \"text-align: left;\">male</td></tr></tbody></table></div>"
      ],
      "text/latex": [
       "\\begin{tabular}{r|ccccccc}\n",
       "\t& species & island & bill\\_length\\_mm & bill\\_depth\\_mm & flipper\\_length\\_mm & body\\_mass\\_g & \\\\\n",
       "\t\\hline\n",
       "\t& String15 & String15 & Float64? & Float64? & Int64? & Int64? & \\\\\n",
       "\t\\hline\n",
       "\t1 & Adelie & Torgersen & 39.1 & 18.7 & 181 & 3750 & $\\dots$ \\\\\n",
       "\t2 & Adelie & Torgersen & 39.5 & 17.4 & 186 & 3800 & $\\dots$ \\\\\n",
       "\t3 & Adelie & Torgersen & 40.3 & 18.0 & 195 & 3250 & $\\dots$ \\\\\n",
       "\t4 & Adelie & Torgersen & \\emph{missing} & \\emph{missing} & \\emph{missing} & \\emph{missing} & $\\dots$ \\\\\n",
       "\t5 & Adelie & Torgersen & 36.7 & 19.3 & 193 & 3450 & $\\dots$ \\\\\n",
       "\t6 & Adelie & Torgersen & 39.3 & 20.6 & 190 & 3650 & $\\dots$ \\\\\n",
       "\t7 & Adelie & Torgersen & 38.9 & 17.8 & 181 & 3625 & $\\dots$ \\\\\n",
       "\t8 & Adelie & Torgersen & 39.2 & 19.6 & 195 & 4675 & $\\dots$ \\\\\n",
       "\t9 & Adelie & Torgersen & 34.1 & 18.1 & 193 & 3475 & $\\dots$ \\\\\n",
       "\t10 & Adelie & Torgersen & 42.0 & 20.2 & 190 & 4250 & $\\dots$ \\\\\n",
       "\t11 & Adelie & Torgersen & 37.8 & 17.1 & 186 & 3300 & $\\dots$ \\\\\n",
       "\t12 & Adelie & Torgersen & 37.8 & 17.3 & 180 & 3700 & $\\dots$ \\\\\n",
       "\t13 & Adelie & Torgersen & 41.1 & 17.6 & 182 & 3200 & $\\dots$ \\\\\n",
       "\t14 & Adelie & Torgersen & 38.6 & 21.2 & 191 & 3800 & $\\dots$ \\\\\n",
       "\t15 & Adelie & Torgersen & 34.6 & 21.1 & 198 & 4400 & $\\dots$ \\\\\n",
       "\t16 & Adelie & Torgersen & 36.6 & 17.8 & 185 & 3700 & $\\dots$ \\\\\n",
       "\t17 & Adelie & Torgersen & 38.7 & 19.0 & 195 & 3450 & $\\dots$ \\\\\n",
       "\t18 & Adelie & Torgersen & 42.5 & 20.7 & 197 & 4500 & $\\dots$ \\\\\n",
       "\t19 & Adelie & Torgersen & 34.4 & 18.4 & 184 & 3325 & $\\dots$ \\\\\n",
       "\t20 & Adelie & Torgersen & 46.0 & 21.5 & 194 & 4200 & $\\dots$ \\\\\n",
       "\t21 & Adelie & Biscoe & 37.8 & 18.3 & 174 & 3400 & $\\dots$ \\\\\n",
       "\t22 & Adelie & Biscoe & 37.7 & 18.7 & 180 & 3600 & $\\dots$ \\\\\n",
       "\t23 & Adelie & Biscoe & 35.9 & 19.2 & 189 & 3800 & $\\dots$ \\\\\n",
       "\t24 & Adelie & Biscoe & 38.2 & 18.1 & 185 & 3950 & $\\dots$ \\\\\n",
       "\t25 & Adelie & Biscoe & 38.8 & 17.2 & 180 & 3800 & $\\dots$ \\\\\n",
       "\t26 & Adelie & Biscoe & 35.3 & 18.9 & 187 & 3800 & $\\dots$ \\\\\n",
       "\t27 & Adelie & Biscoe & 40.6 & 18.6 & 183 & 3550 & $\\dots$ \\\\\n",
       "\t28 & Adelie & Biscoe & 40.5 & 17.9 & 187 & 3200 & $\\dots$ \\\\\n",
       "\t29 & Adelie & Biscoe & 37.9 & 18.6 & 172 & 3150 & $\\dots$ \\\\\n",
       "\t30 & Adelie & Biscoe & 40.5 & 18.9 & 180 & 3950 & $\\dots$ \\\\\n",
       "\t$\\dots$ & $\\dots$ & $\\dots$ & $\\dots$ & $\\dots$ & $\\dots$ & $\\dots$ &  \\\\\n",
       "\\end{tabular}\n"
      ],
      "text/plain": [
       "\u001b[1m152×7 DataFrame\u001b[0m\n",
       "\u001b[1m Row \u001b[0m│\u001b[1m species  \u001b[0m\u001b[1m island    \u001b[0m\u001b[1m bill_length_mm \u001b[0m\u001b[1m bill_depth_mm \u001b[0m\u001b[1m flipper_length_mm \u001b[0m\u001b[1m \u001b[0m ⋯\n",
       "     │\u001b[90m String15 \u001b[0m\u001b[90m String15  \u001b[0m\u001b[90m Float64?       \u001b[0m\u001b[90m Float64?      \u001b[0m\u001b[90m Int64?            \u001b[0m\u001b[90m \u001b[0m ⋯\n",
       "─────┼──────────────────────────────────────────────────────────────────────────\n",
       "   1 │ Adelie    Torgersen            39.1           18.7                181   ⋯\n",
       "   2 │ Adelie    Torgersen            39.5           17.4                186\n",
       "   3 │ Adelie    Torgersen            40.3           18.0                195\n",
       "   4 │ Adelie    Torgersen \u001b[90m      missing   \u001b[0m\u001b[90m     missing   \u001b[0m\u001b[90m           missing \u001b[0m\u001b[90m \u001b[0m\n",
       "   5 │ Adelie    Torgersen            36.7           19.3                193   ⋯\n",
       "   6 │ Adelie    Torgersen            39.3           20.6                190\n",
       "   7 │ Adelie    Torgersen            38.9           17.8                181\n",
       "   8 │ Adelie    Torgersen            39.2           19.6                195\n",
       "   9 │ Adelie    Torgersen            34.1           18.1                193   ⋯\n",
       "  10 │ Adelie    Torgersen            42.0           20.2                190\n",
       "  11 │ Adelie    Torgersen            37.8           17.1                186\n",
       "  ⋮  │    ⋮          ⋮            ⋮               ⋮                ⋮           ⋱\n",
       " 143 │ Adelie    Dream                32.1           15.5                188\n",
       " 144 │ Adelie    Dream                40.7           17.0                190   ⋯\n",
       " 145 │ Adelie    Dream                37.3           16.8                192\n",
       " 146 │ Adelie    Dream                39.0           18.7                185\n",
       " 147 │ Adelie    Dream                39.2           18.6                190\n",
       " 148 │ Adelie    Dream                36.6           18.4                184   ⋯\n",
       " 149 │ Adelie    Dream                36.0           17.8                195\n",
       " 150 │ Adelie    Dream                37.8           18.1                193\n",
       " 151 │ Adelie    Dream                36.0           17.1                187\n",
       " 152 │ Adelie    Dream                41.5           18.5                201   ⋯\n",
       "\u001b[36m                                                  2 columns and 131 rows omitted\u001b[0m"
      ]
     },
     "execution_count": 5,
     "metadata": {},
     "output_type": "execute_result"
    }
   ],
   "source": [
    "filter(r -> r.species == \"Adelie\", penguins)"
   ]
  }
 ],
 "metadata": {
  "kernelspec": {
   "display_name": "Julia 1.10.4",
   "language": "julia",
   "name": "julia-1.10",
   "path": "/home/vituri/.local/share/jupyter/kernels/julia-1.10"
  },
  "language_info": {
   "file_extension": ".jl",
   "mimetype": "application/julia",
   "name": "julia",
   "version": "1.10.4"
  }
 },
 "nbformat": 4,
 "nbformat_minor": 5
}